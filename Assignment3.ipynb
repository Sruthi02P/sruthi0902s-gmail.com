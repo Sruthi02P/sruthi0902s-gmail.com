{
 "cells": [
  {
   "cell_type": "markdown",
   "metadata": {},
   "source": [
    "1.1 Write a Python Program to implement your own myreduce() function which works exactly\n",
    "like Python's built-in function reduce()"
   ]
  },
  {
   "cell_type": "code",
   "execution_count": 9,
   "metadata": {},
   "outputs": [
    {
     "data": {
      "text/plain": [
       "720"
      ]
     },
     "execution_count": 9,
     "metadata": {},
     "output_type": "execute_result"
    }
   ],
   "source": [
    "#my_reduce() is to execute the result depends on any two parameter values\n",
    "#Here func is the function where that can be the task to be done, itr implies that can be can be an iterable\n",
    "#init acts as initializer to initial value\n",
    "\n",
    "def my_reduce(func,itr,init = None):\n",
    "    value = iter(itr)\n",
    "    init = next(value)\n",
    "    result = init\n",
    "    for a in value:\n",
    "        result = func(result, a)\n",
    "    return result\n",
    "\n",
    "#Using myreduce function trying to multiply the sequence within the list\n",
    "my_reduce(lambda x,y:x*y,[1,2,3,4,5,6])\n",
    "\n"
   ]
  },
  {
   "cell_type": "markdown",
   "metadata": {},
   "source": [
    "1.2 Write a Python program to implement your own myfilter() function which works exactly\n",
    "like Python's built-in function filter()"
   ]
  },
  {
   "cell_type": "code",
   "execution_count": 151,
   "metadata": {},
   "outputs": [],
   "source": [
    "#my_filter() is to execute the result based upon the condition with True value\n",
    "\n",
    "def my_filter(func,itr):\n",
    "    itr_value = []\n",
    "    for i in itr:\n",
    "        if(func(i)):\n",
    "            itr_value.append(i)\n",
    "        else:\n",
    "            continue\n",
    "    return itr_value"
   ]
  },
  {
   "cell_type": "code",
   "execution_count": 154,
   "metadata": {},
   "outputs": [
    {
     "data": {
      "text/plain": [
       "[10, 12]"
      ]
     },
     "execution_count": 154,
     "metadata": {},
     "output_type": "execute_result"
    }
   ],
   "source": [
    "#function to check even number\n",
    "\n",
    "even_number = my_filter(lambda x:x%2==0,[10,11,12,13])\n",
    "even_number"
   ]
  },
  {
   "cell_type": "raw",
   "metadata": {},
   "source": [
    "2. Implement List comprehensions to produce the following lists.\n",
    "Write List comprehensions to produce the following Lists\n",
    "\n",
    "['x', 'xx', 'xxx', 'xxxx', 'y', 'yy', 'yyy', 'yyyy', 'z', 'zz', 'zzz', 'zzzz']\n",
    "['x', 'y', 'z', 'xx', 'yy', 'zz', 'xxx', 'yyy', 'zzz', 'xxxx', 'yyyy', 'zzzz']\n",
    "[[2], [3], [4], [3], [4], [5], [4], [5], [6]] [[2, 3, 4, 5], [3, 4, 5, 6],\n",
    "[4, 5, 6, 7], [5, 6, 7, 8]]\n",
    "[(1, 1), (2, 1), (3, 1), (1, 2), (2, 2), (3, 2), (1, 3), (2, 3), (3, 3)]"
   ]
  },
  {
   "cell_type": "code",
   "execution_count": 14,
   "metadata": {},
   "outputs": [
    {
     "name": "stdout",
     "output_type": "stream",
     "text": [
      "['x', 'xx', 'xxx', 'xxxx', 'y', 'yy', 'yyy', 'yyyy', 'z', 'zz', 'zzz', 'zzzz']\n",
      "['x', 'y', 'z', 'xx', 'yy', 'zz', 'xxx', 'yyy', 'zzz', 'xxxx', 'yyyy', 'zzzz']\n",
      "[[2], [3], [4], [3], [4], [5], [4], [5], [6]]\n",
      "[[2, 3, 4, 5], [3, 4, 5, 6], [4, 5, 6, 7], [5, 6, 7, 8]]\n",
      "[(1, 1), (2, 1), (3, 1), (1, 2), (2, 2), (3, 2), (1, 3), (2, 3), (3, 3)]\n"
     ]
    }
   ],
   "source": [
    "input_str1 = 'xyz'\n",
    "print([i*j for i in input_str1 for j in range(1,5)])\n",
    "\n",
    "\n",
    "input_str2 = 'xyz'\n",
    "print([i*j for i in range(1,5) for j in input_str2]) \n",
    "\n",
    "\n",
    "input4 = [[2,3,4],[3,4,5],[4,5,6]]\n",
    "print([[val] for sublist in input4 for val in sublist])\n",
    "\n",
    "\n",
    "input5 = '234'\n",
    "print([[i,i+1,i+2,i+3] for i in range(2,6)]) \n",
    "\n",
    "input6 = '123'\n",
    "print([(j,i) for i in range(1,4) for j in range(1,4)])\n"
   ]
  }
 ],
 "metadata": {
  "kernelspec": {
   "display_name": "Python 3",
   "language": "python",
   "name": "python3"
  },
  "language_info": {
   "codemirror_mode": {
    "name": "ipython",
    "version": 3
   },
   "file_extension": ".py",
   "mimetype": "text/x-python",
   "name": "python",
   "nbconvert_exporter": "python",
   "pygments_lexer": "ipython3",
   "version": "3.7.6"
  }
 },
 "nbformat": 4,
 "nbformat_minor": 4
}
